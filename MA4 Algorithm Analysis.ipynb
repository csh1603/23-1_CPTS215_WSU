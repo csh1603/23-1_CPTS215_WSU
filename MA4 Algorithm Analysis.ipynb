{
 "cells": [
  {
   "cell_type": "markdown",
   "metadata": {},
   "source": [
    "# Title: Participation Activity - Sequence Data Types\n",
    "## Author: Seunghyun Cho\n",
    "### Version: 3.10.6\n",
    "### Date: Feb 18th, 2023\n",
    "\n",
    "### Description: This program analyzes algorithms for efficiency in terms of time and space complexity."
   ]
  },
  {
   "cell_type": "markdown",
   "metadata": {},
   "source": [
    "# [CptS 215 Data Analytics Systems and Algorithms](https://piazza.com/wsu/fall2017/cpts215/home)\n",
    "[Washington State University](https://wsu.edu)\n",
    "\n",
    "[Srini Badri](https://school.eecs.wsu.edu/people/faculty/), [Gina Sprint](http://eecs.wsu.edu/~gsprint/)\n",
    "\n",
    "## MA4 Algorithm Analysis (50 pts)\n",
    "<mark>Due:</mark>\n",
    "\n",
    "### Learner Objectives\n",
    "At the conclusion of this micro assignment, participants should be able to:\n",
    "* Derive4growth rate functions\n",
    "* Analyze algorithms for efficiency in terms of time and space complexity\n",
    "\n",
    "### Prerequisites\n",
    "Before starting this micro assignment, participants should be able to:\n",
    "* Implement/analyze algorithms\n",
    "* Write Markdown and code cells in Jupyter Notebook\n",
    "* Type set equations using Latex\n",
    "\n",
    "### Acknowledgments\n",
    "Content used in this assignment is based upon information in the following sources:\n",
    "* A WSU CptS 223 assignment by [Aaron Crandall](http://eecs.wsu.edu/~acrandal/)."
   ]
  },
  {
   "cell_type": "markdown",
   "metadata": {
    "collapsed": true
   },
   "source": [
    "## Overview and Requirements\n",
    "For this micro assignment, you are going to download this Jupyter Notebook and answer the following questions. Your answer for a problem should be in a cell *immediately* after the problem cell. *Do not modify the problem cell.*"
   ]
  },
  {
   "cell_type": "markdown",
   "metadata": {},
   "source": [
    "### Problem 1 (8 pts)\n",
    "A program takes 20 seconds for input size 250 (i.e., n=250). Ignoring the effect of constants, approximately how much time can the same program be expected to take if the input size is increased to 1000 given the following run-time complexities? \n",
    "1.\t$\\mathcal{O}(N)$\n",
    "2.\t$\\mathcal{O}(N log N)$\n",
    "3.\t$\\mathcal{O}(N^{3})$\n",
    "4.\t$\\mathcal{O}(2^{N})$"
   ]
  },
  {
   "cell_type": "markdown",
   "metadata": {},
   "source": [
    "# Answer for Problem 1\n",
    "n = 250 -> 20 (sec)\n",
    "\n",
    "1. $O(N)$\n",
    "$250:20 = 1000:t$\n",
    "$t = 20 * 4 = 80 seconds$\n",
    "\n",
    "2. $O(NlogN)$\n",
    "$250log250:20 = 1000log1000:t$\n",
    "$t = 20 * 5 = 100 seconds$\n",
    "\n",
    "3. $O(N^3)$\n",
    "$t = k(n^3)$\n",
    "$20 = k(250^3)$\n",
    "$k = 20 / (250^3)$\n",
    "\n",
    "$t = 20 / 250^3 * 1000^3 = 20 * 4^3 = 1280 seconds$\n",
    "\n",
    "4. $O(2^N)$\n",
    "$t = k(2^n)$\n",
    "$20 = k(2^250)$\n",
    "$k = 20 / (2^250)$\n",
    "$t = 20 / (2^250) * (2 ^1000) = 20 * (2^750)"
   ]
  },
  {
   "cell_type": "markdown",
   "metadata": {},
   "source": [
    "### Problem 2 (8 pts)\n",
    "Given the following two functions:\n",
    "\n",
    "```python\n",
    "def f(n):\n",
    "   if n <= 0:\n",
    "      return 0\n",
    "   return 1 + f(n - 1)\n",
    "```\n",
    "\n",
    "```python\n",
    "def g(n):\n",
    "   summ = 0\n",
    "   for i in range(0, n, 1):\n",
    "      summ += 1\n",
    "   return summ\n",
    "```\n",
    "\n",
    "1. (3 pts) State the runtime complexity of both `f()` and `g()`\n",
    "1. (3 pts) State the memory (space) complexity for both `f()` and `g()`\n",
    "1. (2 pts) Write another function called `h(n)` that does the same thing, but is significantly faster."
   ]
  },
  {
   "cell_type": "markdown",
   "metadata": {},
   "source": [
    "### Answer for Probelm 2\n",
    "1. \n",
    "i) f(n) -> O(N)\n",
    "if n <= 0: 1 comparison\n",
    "return 1 + f(n-1): n+1 recalls\n",
    "\n",
    "T(n) = 1 + n + 1 = n + 2 = O(N)\n",
    "\n",
    "ii) g(n) -> O(N)\n",
    "\n",
    "for i in range(0, n, 1): n loops\n",
    "summ += 1: n addition\n",
    "\n",
    "T(n) = n + n = 2n = O(N)\n",
    "\n",
    "2.\n",
    "i) f(n) -> O(N)\n",
    "def f(n): 1\n",
    "return 1 + f(n-1): n\n",
    "\n",
    "S(n) = 1 + n = O(N)\n",
    "\n",
    "ii) g(n) -> O(1)\n",
    "def g(n): 1\n",
    "summ = 0: 1\n",
    "\n",
    "S(n) = 1 + 1 = 2 = O(1)\n",
    "\n",
    "3. "
   ]
  },
  {
   "cell_type": "code",
   "execution_count": 26,
   "metadata": {},
   "outputs": [],
   "source": [
    "def h(n):\n",
    "    return n"
   ]
  },
  {
   "cell_type": "markdown",
   "metadata": {},
   "source": [
    "### Problem 3 (8 pts)\n",
    "State `g(n)`'s runtime complexity:\n",
    "\n",
    "```python\n",
    "def f(n):\n",
    "   if n <= 1:`\n",
    "      return 1\n",
    "   return 1 + f(n/2)\n",
    "\n",
    "def g(n):\n",
    "   i = 1\n",
    "   while i < n:\n",
    "       f(i)\n",
    "       i *= 2\n",
    "```"
   ]
  },
  {
   "cell_type": "markdown",
   "metadata": {},
   "source": [
    "### Answer for Problem 3\n",
    "def f(n):\n",
    "    if n <= 1: # 1 comparison\n",
    "        return 1\n",
    "    return 1 + f(n/2) # recalls n/2\n",
    "    \n",
    "def g(n):\n",
    "    i = 1\n",
    "    while i < n: # n/2 comparisons\n",
    "        f(i) # O(log2(N))\n",
    "        i * = 2 # n/2\n",
    "\n",
    "O{(log2(N)^2)}"
   ]
  },
  {
   "cell_type": "markdown",
   "metadata": {},
   "source": [
    "### Problem 4 (8 pts)\n",
    "Provide the algorithmic efficiency for the following tasks.  Justify your answer.\n",
    "1. Determining whether or not a number exists in a list\n",
    "1. Finding the smallest number in a list\n",
    "1. Determining whether or not two unsorted lists of the same length contain all of the same values (assume no duplicate values)\n",
    "1. Determining whether or not two sorted list contain all of the same values (assume no duplicate values)"
   ]
  },
  {
   "cell_type": "markdown",
   "metadata": {},
   "source": [
    "### Answer of Problem 4\n",
    "1.O(logN)"
   ]
  },
  {
   "cell_type": "code",
   "execution_count": 27,
   "metadata": {},
   "outputs": [],
   "source": [
    "def binary_search(array, target):\n",
    "    start = 0\n",
    "    end = len(array) - 1\n",
    "    while (start <= end):\n",
    "        mid = (start + end) // 2 # keep dividing into half, it becomes O(log2(N)\n",
    "        if array[mid] == target:\n",
    "            return mid\n",
    "        elif target < array[mid]:\n",
    "            end = mid - 1\n",
    "        else:\n",
    "            start = mid + 1\n",
    "    return -1"
   ]
  },
  {
   "cell_type": "markdown",
   "metadata": {},
   "source": [
    "2. O(N)"
   ]
  },
  {
   "cell_type": "code",
   "execution_count": 28,
   "metadata": {},
   "outputs": [],
   "source": [
    "def minimum_value(array):\n",
    "    sm = 0\n",
    "    for i in range(len(array)): # n comparisons\n",
    "        if array[sm] > array[i]:\n",
    "            sm = i\n",
    "    return array[sm]"
   ]
  },
  {
   "cell_type": "markdown",
   "metadata": {},
   "source": [
    "3. $O(N^2)$\n",
    "\n",
    "$O(N^2) = 1 + 1 + 1 + n + n*n + n*n + 1 + 1 + 1 + n*n + n = 3n^2 + 2n + 6$"
   ]
  },
  {
   "cell_type": "code",
   "execution_count": 24,
   "metadata": {},
   "outputs": [],
   "source": [
    "def same_values(list1, list2):\n",
    "    i = 0 # 1\n",
    "    j = 0 # 1\n",
    "    same = True # 1\n",
    "    while i < len(list1) and same is True: # n comparisons\n",
    "        while j < len(list2): # n*n comparisons\n",
    "            if list1[i] == list2[j]: # n*n\n",
    "                same = True # 1\n",
    "            else: # 1\n",
    "                same = False # 1\n",
    "            j += 1 # n*n\n",
    "        i += 1 # n\n",
    "    return same"
   ]
  },
  {
   "cell_type": "markdown",
   "metadata": {},
   "source": [
    "4, O(N)\n",
    "\n",
    "O(N) = 1 + n + n = 2n + 1"
   ]
  },
  {
   "cell_type": "code",
   "execution_count": 25,
   "metadata": {},
   "outputs": [],
   "source": [
    "def same_values(list1, list2):\n",
    "    i = 0 # 1\n",
    "    for i in range(len(list1)): # n\n",
    "        if list1[i] != list2[i]: # n\n",
    "            return False\n",
    "    return True"
   ]
  },
  {
   "cell_type": "markdown",
   "metadata": {},
   "source": [
    "### Problem 5 - Implementation (15 pts)\n",
    "Prove that linear search has a time complexity of O(N).\n",
    "\n",
    "To measure the computation time of linear search algorithm, use the following approach:\n",
    "- define a method for linear search algorithms with the syntax: <br>\n",
    "    linear_search(array, target)\n",
    "<br><br>\n",
    "- perform the following steps in your main code:\n",
    "    - Repeat the following steps for N = 1000, 10000, 100000, 1000000, 10000000:\n",
    "        - create an array of sorted integers in the range of 1 through N\n",
    "        - generate a random target value in the range of N/4 and 3N/4\n",
    "        - measure start time\n",
    "        - call linear search with the array and the target value\n",
    "        - measure stop time\n",
    "        - print search index result and computation time (end time - start time)\n",
    "<br><br>\n",
    "- compare the compuation time in relation to array size (N). The comparison can be in the form of console output or Matplotlib plot. \n",
    "\n",
    "<b>Note</b>:\n",
    "- Refer to the lectures on Linear Search and Measuring Time Complexity for reference.\n",
    "- Implement the solution in Python Code cells within the Jupyter Notebook"
   ]
  },
  {
   "cell_type": "code",
   "execution_count": 14,
   "metadata": {},
   "outputs": [
    {
     "name": "stderr",
     "output_type": "stream",
     "text": [
      "C:\\Users\\csh16\\AppData\\Local\\Temp\\ipykernel_16448\\2183141851.py:16: DeprecationWarning: non-integer arguments to randrange() have been deprecated since Python 3.10 and will be removed in a subsequent version\n",
      "  target = random.randrange(list_N[i]/4, 3*list_N[i]/4+1)\n"
     ]
    },
    {
     "name": "stdout",
     "output_type": "stream",
     "text": [
      "N =  1000\n",
      "Search index:  476\n",
      "Computation time: 0.00000000000000000000\n",
      "\n",
      "\n",
      "N =  10000\n",
      "Search index:  8162\n",
      "Computation time: 0.00100874900817871094\n",
      "\n",
      "\n",
      "N =  100000\n",
      "Search index:  65924\n",
      "Computation time: 0.01715588569641113281\n",
      "\n",
      "\n",
      "N =  1000000\n",
      "Search index:  843629\n",
      "Computation time: 0.17419099807739257812\n",
      "\n",
      "\n",
      "N =  10000000\n",
      "Search index:  5141735\n",
      "Computation time: 1.19551706314086914062\n",
      "\n",
      "\n"
     ]
    }
   ],
   "source": [
    "import random\n",
    "import time\n",
    "\n",
    "def linear_search(array, target):\n",
    "    for i in range(len(array)):\n",
    "        if array[i] == target:\n",
    "            return i\n",
    "    return -1\n",
    "\n",
    "def main():\n",
    "    list_N = [1000, 10000, 100000, 1000000, 10000000]\n",
    "    array = []\n",
    "    for i in range(len(list_N)):\n",
    "        for j in range(1, list_N[i]+1):\n",
    "            array.append(j)\n",
    "        target = random.randrange(list_N[i]/4, 3*list_N[i]/4+1)\n",
    "        start = time.time()\n",
    "        n = linear_search(array, target)\n",
    "        end = time.time()\n",
    "        print(\"N = \", list_N[i])\n",
    "        print(\"Search index: \", n)\n",
    "        print(\"Computation time: {:.20f}\".format(end-start))\n",
    "        print(\"\\n\")\n",
    "\n",
    "main()"
   ]
  },
  {
   "cell_type": "markdown",
   "metadata": {},
   "source": [
    "### Bonus Problem - Implementation (3 pts)\n",
    "Prove that binary search has a time complexity of O(log N). \n",
    "\n",
    "To measure the computation time of binary search algorithm, use the approach described in Problem #5 above."
   ]
  },
  {
   "cell_type": "code",
   "execution_count": 22,
   "metadata": {},
   "outputs": [
    {
     "name": "stderr",
     "output_type": "stream",
     "text": [
      "C:\\Users\\csh16\\AppData\\Local\\Temp\\ipykernel_16448\\275701283.py:23: DeprecationWarning: non-integer arguments to randrange() have been deprecated since Python 3.10 and will be removed in a subsequent version\n",
      "  target = random.randrange(list_N[i]/4, 3*list_N[i]/4+1)\n"
     ]
    },
    {
     "name": "stdout",
     "output_type": "stream",
     "text": [
      "N =  1000\n",
      "Search index:  304\n",
      "Computation time: 0.000000000000000000000000000000\n",
      "\n",
      "\n",
      "N =  10000\n",
      "Search index:  7848\n",
      "Computation time: 0.000000000000000000000000000000\n",
      "\n",
      "\n",
      "N =  100000\n",
      "Search index:  52231\n",
      "Computation time: 0.000000000000000000000000000000\n",
      "\n",
      "\n",
      "N =  1000000\n",
      "Search index:  407597\n",
      "Computation time: 0.000000000000000000000000000000\n",
      "\n",
      "\n",
      "N =  10000000\n",
      "Search index:  4413958\n",
      "Computation time: 0.000000000000000000000000000000\n",
      "\n",
      "\n"
     ]
    }
   ],
   "source": [
    "import random\n",
    "import time\n",
    "\n",
    "def binary_search(array, target):\n",
    "    start = 0\n",
    "    end = len(array) - 1\n",
    "    while (start <= end):\n",
    "        mid = (start + end) // 2 # keep dividing into half, it becomes O(log2(N)\n",
    "        if array[mid] == target:\n",
    "            return mid\n",
    "        elif target < array[mid]:\n",
    "            end = mid - 1\n",
    "        else:\n",
    "            start = mid + 1\n",
    "    return -1\n",
    "\n",
    "def main():\n",
    "    list_N = [1000, 10000, 100000, 1000000, 10000000]\n",
    "    array = []\n",
    "    for i in range(len(list_N)):\n",
    "        for j in range(1, list_N[i]+1):\n",
    "            array.append(j)\n",
    "        target = random.randrange(list_N[i]/4, 3*list_N[i]/4+1)\n",
    "        start = time.time()\n",
    "        n = binary_search(array, target)\n",
    "        end = time.time()\n",
    "        print(\"N = \", list_N[i])\n",
    "        print(\"Search index: \", n)\n",
    "        print(\"Computation time: {:.30f}\".format(end-start))\n",
    "        print(\"\\n\")\n",
    "\n",
    "main()"
   ]
  },
  {
   "cell_type": "markdown",
   "metadata": {},
   "source": [
    "## Submitting Assignments\n",
    "1.\tUse the Blackboard tool https://learn.wsu.edu to submit your assignment. You will submit your solution to the corresponding programming assignment under the \"Content\" tab. You must upload your solutions as `<your last name>_ma4.zip` by the due date and time.\n",
    "2.\tYour .zip file should contain your <b>.ipynb</b> file and a <b>.html</b> file representing your Notebook as a webpage (File->Download as->HTML)."
   ]
  },
  {
   "cell_type": "markdown",
   "metadata": {},
   "source": [
    "## Grading Guidelines\n",
    "This assignment is worth (50 + 3) points. Your assignment will be evaluated based on adherence to the requirements. See each problem above for individual problem point values. In addition, we will grade according to the following criteria:\n",
    "* 47 pts for correct answers to all the questions\n",
    "* 3 pts for for adherence to proper programming style and comments established for the class\n",
    "* 3 pts for correct answer to the bonus question"
   ]
  }
 ],
 "metadata": {
  "anaconda-cloud": {},
  "kernelspec": {
   "display_name": "Python 3 (ipykernel)",
   "language": "python",
   "name": "python3"
  },
  "language_info": {
   "codemirror_mode": {
    "name": "ipython",
    "version": 3
   },
   "file_extension": ".py",
   "mimetype": "text/x-python",
   "name": "python",
   "nbconvert_exporter": "python",
   "pygments_lexer": "ipython3",
   "version": "3.10.8"
  }
 },
 "nbformat": 4,
 "nbformat_minor": 1
}
